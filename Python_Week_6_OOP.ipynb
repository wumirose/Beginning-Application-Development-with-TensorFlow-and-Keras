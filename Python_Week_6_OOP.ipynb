{
  "nbformat": 4,
  "nbformat_minor": 0,
  "metadata": {
    "kernelspec": {
      "display_name": "Python 3",
      "language": "python",
      "name": "python3"
    },
    "language_info": {
      "codemirror_mode": {
        "name": "ipython",
        "version": 3
      },
      "file_extension": ".py",
      "mimetype": "text/x-python",
      "name": "python",
      "nbconvert_exporter": "python",
      "pygments_lexer": "ipython3",
      "version": "3.6.4"
    },
    "colab": {
      "name": "Python_Week_6_OOP.ipynb",
      "version": "0.3.2",
      "provenance": [],
      "collapsed_sections": [],
      "include_colab_link": true
    }
  },
  "cells": [
    {
      "cell_type": "markdown",
      "metadata": {
        "id": "view-in-github",
        "colab_type": "text"
      },
      "source": [
        "<a href=\"https://colab.research.google.com/github/wumirose/Beginning-Application-Development-with-TensorFlow-and-Keras/blob/master/Python_Week_6_OOP.ipynb\" target=\"_parent\"><img src=\"https://colab.research.google.com/assets/colab-badge.svg\" alt=\"Open In Colab\"/></a>"
      ]
    },
    {
      "cell_type": "markdown",
      "metadata": {
        "id": "EhPquUuN_KdF",
        "colab_type": "text"
      },
      "source": [
        "## Object Oriented Programming (OOP) \n",
        "* Creating and Using a class \n",
        "* Working with classes and instances\n",
        "* Concept of OOP (Inheritance, Encapsulation \n",
        "* Importing classes \n",
        "\n",
        "OOP is one of the most effective approaches to writing software. In OOP, realworld situations are represented as classes, and from these classes, objects are created. \n",
        "\n",
        "> Class: Blueprint / Design\n",
        "\n",
        "> Object: Production / real thing\n",
        "\n",
        "### Properties of Objects\n",
        "1. Attributes: defined  with variables eg. Height, Age, DOB, COmplexion, Color, Length etc\n",
        "2. Actions: defined with methods eg. Grow, jump, sleep\n",
        "\n",
        "\n",
        "### Defining a Class\n",
        "The syntax is \n",
        "\n",
        "class classname:\n",
        "    "
      ]
    },
    {
      "cell_type": "code",
      "metadata": {
        "id": "tZKa6lWb_KfL",
        "colab_type": "code",
        "colab": {}
      },
      "source": [
        "class SampleClass:\n",
        "  pass\n",
        "    "
      ],
      "execution_count": 0,
      "outputs": []
    },
    {
      "cell_type": "markdown",
      "metadata": {
        "id": "HV6kBjzIGTCN",
        "colab_type": "text"
      },
      "source": [
        "**OBJECT ATTRIBUTES**\n",
        "\n",
        "To initialize class attributes\n",
        "\n",
        "__init__ () method is required \n",
        "\n",
        "__init__() method gets called automatically each time an object of the class is instantiated\n",
        "\n",
        "__init__() method gives objects of a class default value (or state) accessible across methods of the same class.\n",
        "\n",
        "This method must have at least one argument as well as the self variable, which refers to the object itself "
      ]
    },
    {
      "cell_type": "code",
      "metadata": {
        "id": "pzNuaii6DtsM",
        "colab_type": "code",
        "colab": {}
      },
      "source": [
        "class Dog:\n",
        "\n",
        "    # Initializer / Instance Attributes\n",
        "    def __init__(self, name, age):\n",
        "        self.name = name\n",
        "        self.age = age"
      ],
      "execution_count": 0,
      "outputs": []
    },
    {
      "cell_type": "markdown",
      "metadata": {
        "id": "-DTYERqGIG8w",
        "colab_type": "text"
      },
      "source": [
        "SELF\n",
        "\n",
        "This is a pointer to the instance of the class (object) to be passed \n",
        "\n",
        "It is a reference to the object\n"
      ]
    },
    {
      "cell_type": "markdown",
      "metadata": {
        "id": "076JYYpJJcNs",
        "colab_type": "text"
      },
      "source": [
        "**CLASS ATTRIBUTES**\n",
        "\n",
        "So while each Infinix made phone has a unique name (Hot 6) and year (2018) of design, every infinix phone will be called **Infinix**"
      ]
    },
    {
      "cell_type": "code",
      "metadata": {
        "id": "2ootkN_LJcme",
        "colab_type": "code",
        "colab": {}
      },
      "source": [
        "\n",
        "\n",
        "class Dog:\n",
        "\n",
        "    # Class Attribute\n",
        "    Species = 'Mammal'\n",
        "\n",
        "    # Initializer / Instance Attributes\n",
        "    def __init__(self, name, age):\n",
        "        self.name = name\n",
        "        self.age = age"
      ],
      "execution_count": 0,
      "outputs": []
    },
    {
      "cell_type": "markdown",
      "metadata": {
        "id": "z1mkCgKO_Kjr",
        "colab_type": "text"
      },
      "source": [
        "#### Instantiating an object\n",
        "\n",
        "Creating a instance of a class"
      ]
    },
    {
      "cell_type": "code",
      "metadata": {
        "id": "dZ6O-iXQLaZE",
        "colab_type": "code",
        "colab": {}
      },
      "source": [
        "# Instantiate the Sample Class object\n",
        "Sample = SampleClass()"
      ],
      "execution_count": 0,
      "outputs": []
    },
    {
      "cell_type": "code",
      "metadata": {
        "id": "UxyQZpfI_KkA",
        "colab_type": "code",
        "colab": {}
      },
      "source": [
        "# Instantiate the Dog object\n",
        "philo = Dog(\"Philo\", 5)\n",
        "mikey = Dog(\"Mikey\", 6)"
      ],
      "execution_count": 0,
      "outputs": []
    },
    {
      "cell_type": "markdown",
      "metadata": {
        "id": "gr1oteI9PDR7",
        "colab_type": "text"
      },
      "source": [
        "#### Accessing the Class and object attributes\n",
        "\n",
        "This can be done using the dot(.) notation e.g.  \n",
        "\n",
        "**philo.Species** for **Class Attributes**\n",
        "\n",
        "**philo.name, philo.age, mikey.name **  for ** object attributes**\n"
      ]
    },
    {
      "cell_type": "code",
      "metadata": {
        "id": "-PGAo75RPZds",
        "colab_type": "code",
        "outputId": "782d6819-21d0-465e-a542-995f33ba0b2d",
        "colab": {
          "base_uri": "https://localhost:8080/",
          "height": 73
        }
      },
      "source": [
        "print(philo.Species) # This is a class attribute\n",
        "\n",
        "\n",
        "print(philo.name, philo.age) # These are  object attributes\n",
        "\n",
        "print(mikey.name, mikey.age)  # These are  object attributes"
      ],
      "execution_count": 0,
      "outputs": [
        {
          "output_type": "stream",
          "text": [
            "Mammal\n",
            "Philo 5\n",
            "Mikey 6\n"
          ],
          "name": "stdout"
        }
      ]
    },
    {
      "cell_type": "markdown",
      "metadata": {
        "id": "TkW_2M2vRz5f",
        "colab_type": "text"
      },
      "source": [
        "### Exercise 1\n",
        "\n",
        "1. Using the same Dog class, instantiate three new dogs, each with a different age. \n",
        "\n",
        "2. Write a function called, get_biggest_number(), that takes any number of ages (*args) and returns the oldest one. Then output the age of the oldest dog like so:"
      ]
    },
    {
      "cell_type": "markdown",
      "metadata": {
        "id": "cfKYbxGoVIZ5",
        "colab_type": "text"
      },
      "source": [
        "## Object Methods\n",
        "\n",
        "Methods are defined inside a class and are used to get the contents of an instance. They can also be used to perform operations with the attributes of our objects. Like the __init__ method, the first argument is always self"
      ]
    },
    {
      "cell_type": "code",
      "metadata": {
        "id": "GzHgfnTqVg9y",
        "colab_type": "code",
        "outputId": "1f09a3de-f815-4147-bb70-dc23267a6894",
        "colab": {
          "base_uri": "https://localhost:8080/",
          "height": 54
        }
      },
      "source": [
        "class Dog:\n",
        "\n",
        "    # Class Attribute\n",
        "    species = 'mammal'\n",
        "\n",
        "    # Initializer / Object Attributes\n",
        "    def __init__(self, name, age):\n",
        "        self.name = name\n",
        "        self.age = age\n",
        "\n",
        "    # Object method\n",
        "    def description(self):\n",
        "        return \"{} is {} years old\".format(self.name, self.age)\n",
        "\n",
        "    # Object method\n",
        "    def speak(self, sound):\n",
        "        return \"{} says {}\".format(self.name, sound)\n",
        "\n",
        "# Instantiate the Dog object\n",
        "mikey = Dog(\"Mikey\", 6)\n",
        "\n",
        "# call our object methods\n",
        "print(mikey.description())\n",
        "\n",
        "print(mikey.speak(\"Gruff Gruff\"))"
      ],
      "execution_count": 0,
      "outputs": [
        {
          "output_type": "stream",
          "text": [
            "Mikey is 6 years old\n",
            "Mikey says Gruff Gruff\n"
          ],
          "name": "stdout"
        }
      ]
    },
    {
      "cell_type": "markdown",
      "metadata": {
        "id": "9piP9u-OWy-k",
        "colab_type": "text"
      },
      "source": [
        "### Exercise 2\n",
        "\n",
        "1.  Copy the class into a new cell\n",
        "2.  Add 2 more methods \n",
        "3.  Create an instance called **Lucky**\n",
        "4.  Call out and print the 2 methods "
      ]
    },
    {
      "cell_type": "markdown",
      "metadata": {
        "id": "D1FcS4rGYX_j",
        "colab_type": "text"
      },
      "source": [
        "**Modifying Attributes**\n",
        "\n",
        "You can change the value of attributes based on some behavior:"
      ]
    },
    {
      "cell_type": "code",
      "metadata": {
        "id": "XdlZ7YsaYf1f",
        "colab_type": "code",
        "outputId": "64a5bdf2-f314-4438-a3ee-ccfbed2d2f40",
        "colab": {
          "base_uri": "https://localhost:8080/",
          "height": 54
        }
      },
      "source": [
        "class Dog:\n",
        "\n",
        "    # Class Attribute\n",
        "    species = 'mammal'\n",
        "\n",
        "    # Initializer / Object Attributes\n",
        "    def __init__(self, name, age):\n",
        "        self.name = name\n",
        "        self.age = age\n",
        "\n",
        "    # Object method to describe dog object\n",
        "    def description(self):\n",
        "        return \"{} is {} years old\".format(self.name, self.age)\n",
        "\n",
        "    # Object method\n",
        "    def Run(self, speed, jump):\n",
        "        self.jump = jump\n",
        "        return speed\n",
        "        \n",
        "# Instantiate the Dog object\n",
        "mikey = Dog(\"Mikey\", 6)\n",
        "\n",
        "# call our object methods for species\n",
        "print(mikey.name)\n",
        "\n",
        "#Modifying the attribute Species\n",
        "mikey.species = \"Animal\"\n",
        "\n",
        "\n",
        "# call our object methods for species to know its new content\n",
        "print(mikey.species)\n",
        "\n"
      ],
      "execution_count": 0,
      "outputs": [
        {
          "output_type": "stream",
          "text": [
            "Mikey\n",
            "Animal\n"
          ],
          "name": "stdout"
        }
      ]
    },
    {
      "cell_type": "code",
      "metadata": {
        "id": "JU-86Bs2kMD4",
        "colab_type": "code",
        "outputId": "1ee39f6a-2a9f-4bde-fad5-c5f63fd349f4",
        "colab": {
          "base_uri": "https://localhost:8080/",
          "height": 36
        }
      },
      "source": [
        "#instantiate the dog object\n",
        "jack = Dog (\"Jack\", 13)\n",
        "#call our object methods for Run,specifying the speed and jump\n",
        "#The method returns the value of Speed\n",
        "print(jack.Run(3,'Yes'))\n"
      ],
      "execution_count": 0,
      "outputs": [
        {
          "output_type": "stream",
          "text": [
            "3\n"
          ],
          "name": "stdout"
        }
      ]
    },
    {
      "cell_type": "markdown",
      "metadata": {
        "id": "IpnpuNhGjqUi",
        "colab_type": "text"
      },
      "source": [
        "**Exercise 2**\n",
        "\n",
        "We have a class defined for vehicles. Create two new vehicles called car1 and car2. Set car1 to be a red convertible worth 60,000USD with a name of Fer, and car2 to be a blue van named Jump and worth 10,000USD."
      ]
    },
    {
      "cell_type": "code",
      "metadata": {
        "id": "ZAb-BX5Fkhg5",
        "colab_type": "code",
        "outputId": "530689f7-c3a6-4ee7-898f-45fc941f1fac",
        "colab": {
          "base_uri": "https://localhost:8080/",
          "height": 54
        }
      },
      "source": [
        "# define the Vehicle class\n",
        "class Vehicle:\n",
        "    name = \"\"\n",
        "    kind = \"car\"\n",
        "    color = \"\"\n",
        "    value = 100.00\n",
        "    def description(self):\n",
        "        desc_str = \"%s is a %s %s worth $%.2f.\" % (self.name, self.color, self.kind, self.value)\n",
        "        return desc_str\n",
        "# your code goes here\n",
        "\n",
        "\n",
        "\n",
        "# test code\n",
        "print(car1.description())\n",
        "print(car2.description())"
      ],
      "execution_count": 0,
      "outputs": [
        {
          "output_type": "stream",
          "text": [
            " is a  car worth $100.00.\n",
            " is a  car worth $100.00.\n"
          ],
          "name": "stdout"
        }
      ]
    },
    {
      "cell_type": "markdown",
      "metadata": {
        "id": "pouo-zugcYrT",
        "colab_type": "text"
      },
      "source": [
        "**OOP PRINCIPLES/ CONCEPT**\n",
        "\n",
        "These Extending the functionality an existing class such that similar classes can share code efficiently**\n",
        "\n",
        "Inheritance \tA process of using details from a new class without modifying existing class.\n",
        "\n",
        "Encapsulation \tHiding the private details of a class from other objects.\n",
        "\n",
        "Polymorphism \tA concept of using common operation in different ways for different data input.\n",
        "\n",
        "**Python Object Inheritance**\n",
        "\n",
        "Inheritance is the process by which one class takes on the attributes and methods of another. Newly formed classes are called child classes, and the classes that child classes are derived from are called parent classes. \n",
        "\n",
        "The syntax is \n",
        "                      \n",
        "\n",
        "```\n",
        "#  class childclassname(parentclass)\n",
        "```\n",
        "\n",
        " "
      ]
    },
    {
      "cell_type": "code",
      "metadata": {
        "id": "SeDIMDBEcjMB",
        "colab_type": "code",
        "outputId": "bb28adb3-f870-4624-ce5a-ade872666d6d",
        "colab": {
          "base_uri": "https://localhost:8080/",
          "height": 54
        }
      },
      "source": [
        "# Parent class\n",
        "class Dog:\n",
        "\n",
        "    # Class attribute\n",
        "    species = 'mammal'\n",
        "\n",
        "    # Initializer / Instance attributes\n",
        "    def __init__(self, name, age):\n",
        "        self.name = name\n",
        "        self.age = age\n",
        "\n",
        "    # object method\n",
        "    def description(self):\n",
        "        return \"{} is {} years old\".format(self.name, self.age)\n",
        "\n",
        "    # object method\n",
        "    def speak(self, sound):\n",
        "        return \"{} says {}\".format(self.name, sound)"
      ],
      "execution_count": 0,
      "outputs": [
        {
          "output_type": "stream",
          "text": [
            "Jim is 12 years old\n",
            "Jim runs slowly\n"
          ],
          "name": "stdout"
        }
      ]
    },
    {
      "cell_type": "code",
      "metadata": {
        "id": "BdHtVaTaemUd",
        "colab_type": "code",
        "outputId": "91ab69db-3985-4d6f-93ba-fab2d0c1afb3",
        "colab": {
          "base_uri": "https://localhost:8080/",
          "height": 54
        }
      },
      "source": [
        "# Child class (inherits from Dog class)\n",
        "class Bulldog(Dog):\n",
        "    def run(self, speed):\n",
        "        return \"{} runs {}\".format(self.name, speed)\n",
        "\n",
        "\n",
        "# Child classes inherit attributes and\n",
        "# methods from the parent class\n",
        "jim = Bulldog(\"Jim\", 12)\n",
        "print(jim.description())\n",
        "\n",
        "# Child class have specific attributes\n",
        "# and methods as well\n",
        "print(jim.run(\"slowly\"))\n"
      ],
      "execution_count": 0,
      "outputs": [
        {
          "output_type": "stream",
          "text": [
            "Jim is 12 years old\n",
            "Jim runs slowly\n"
          ],
          "name": "stdout"
        }
      ]
    },
    {
      "cell_type": "markdown",
      "metadata": {
        "id": "usDR2peM_Kl-",
        "colab_type": "text"
      },
      "source": [
        "[Click here](https://www.programiz.com/python-programming/object-oriented-programming) or [here](https://realpython.com/python3-object-oriented-programming/)\n",
        "To learn more about OOP Concept"
      ]
    },
    {
      "cell_type": "code",
      "metadata": {
        "id": "KmXx2Sxp_KmM",
        "colab_type": "code",
        "colab": {}
      },
      "source": [
        ""
      ],
      "execution_count": 0,
      "outputs": []
    }
  ]
}